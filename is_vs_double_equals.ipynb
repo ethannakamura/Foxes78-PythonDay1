{
 "cells": [
  {
   "cell_type": "code",
   "execution_count": 1,
   "id": "5ff1c062",
   "metadata": {},
   "outputs": [
    {
     "name": "stdout",
     "output_type": "stream",
     "text": [
      "['a', 'b', 'c']\n",
      "0x222b639e080\n"
     ]
    }
   ],
   "source": [
    "x = ['a', 'b', 'c']\n",
    "print(x)\n",
    "print(hex(id(x)))"
   ]
  },
  {
   "cell_type": "code",
   "execution_count": 11,
   "id": "cc15887d",
   "metadata": {},
   "outputs": [
    {
     "name": "stdout",
     "output_type": "stream",
     "text": [
      "['a', 'b', 'c']\n",
      "0x29b18e5c640\n"
     ]
    }
   ],
   "source": [
    "y = ['a', 'b', 'c']\n",
    "print(y)\n",
    "print(hex(id(y)))"
   ]
  },
  {
   "cell_type": "code",
   "execution_count": 13,
   "id": "4c6d1366",
   "metadata": {},
   "outputs": [
    {
     "data": {
      "text/plain": [
       "True"
      ]
     },
     "execution_count": 13,
     "metadata": {},
     "output_type": "execute_result"
    }
   ],
   "source": [
    "x == y"
   ]
  },
  {
   "cell_type": "code",
   "execution_count": 14,
   "id": "14ba78ae",
   "metadata": {},
   "outputs": [
    {
     "data": {
      "text/plain": [
       "False"
      ]
     },
     "execution_count": 14,
     "metadata": {},
     "output_type": "execute_result"
    }
   ],
   "source": [
    "x is y"
   ]
  },
  {
   "cell_type": "code",
   "execution_count": 17,
   "id": "5c9f2883",
   "metadata": {},
   "outputs": [
    {
     "name": "stdout",
     "output_type": "stream",
     "text": [
      "['a', 'b', 'c']\n",
      "['a', 'b', 'c']\n",
      "0x29b18e35480\n",
      "0x29b18e35480\n"
     ]
    }
   ],
   "source": [
    "# make y reference x\n",
    "x = ['a', 'b', 'c']\n",
    "y = x # give y access to x's memory location which contains the value ['a', 'b', 'c'] -> y = x = ['a', 'b', 'c']\n",
    "print(x)\n",
    "print(y)\n",
    "print(hex(id(x)))\n",
    "print(hex(id(y)))"
   ]
  },
  {
   "cell_type": "code",
   "execution_count": 18,
   "id": "60d56bdf",
   "metadata": {},
   "outputs": [
    {
     "data": {
      "text/plain": [
       "True"
      ]
     },
     "execution_count": 18,
     "metadata": {},
     "output_type": "execute_result"
    }
   ],
   "source": [
    "x == y # == compares equality of value"
   ]
  },
  {
   "cell_type": "code",
   "execution_count": 19,
   "id": "45950f38",
   "metadata": {},
   "outputs": [
    {
     "data": {
      "text/plain": [
       "True"
      ]
     },
     "execution_count": 19,
     "metadata": {},
     "output_type": "execute_result"
    }
   ],
   "source": [
    "x is y # is compares equality of reference (aka memory location)"
   ]
  },
  {
   "cell_type": "code",
   "execution_count": null,
   "id": "912f98ce",
   "metadata": {},
   "outputs": [],
   "source": [
    "# what's the difference between a single = and a double ==\n",
    "# single = is for variable assignment -> setting a variable equal to a value aka x = 3, var = 'Foxes'\n",
    "# double == is a boolean operator for comparison of value (and type) equality\n",
    "    # a double == will usually be used in a conditional statement\n",
    "    # if x == y:\n",
    "    # boolean statements using boolean operators like == always result in either True or False"
   ]
  }
 ],
 "metadata": {
  "kernelspec": {
   "display_name": "Python 3",
   "language": "python",
   "name": "python3"
  },
  "language_info": {
   "codemirror_mode": {
    "name": "ipython",
    "version": 3
   },
   "file_extension": ".py",
   "mimetype": "text/x-python",
   "name": "python",
   "nbconvert_exporter": "python",
   "pygments_lexer": "ipython3",
   "version": "3.9.6"
  }
 },
 "nbformat": 4,
 "nbformat_minor": 5
}
